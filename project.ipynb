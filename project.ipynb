{
 "cells": [
  {
   "cell_type": "code",
   "execution_count": 1,
   "metadata": {},
   "outputs": [
    {
     "name": "stderr",
     "output_type": "stream",
     "text": [
      "\u001b[32m\u001b[1m  Activating\u001b[22m\u001b[39m environment at `C:\\Users\\gabri\\Documents\\Cadeiras\\MAT55\\MAT55_Exame\\Project.toml`\n"
     ]
    }
   ],
   "source": [
    "using Pkg\n",
    "Pkg.activate(\".\")"
   ]
  },
  {
   "cell_type": "code",
   "execution_count": 2,
   "metadata": {},
   "outputs": [
    {
     "name": "stderr",
     "output_type": "stream",
     "text": [
      "\u001b[32m\u001b[1mPrecompiling\u001b[22m\u001b[39m project...\n",
      "\u001b[32m  ✓ \u001b[39mMAT55_Exame\n",
      "  1 dependency successfully precompiled in 8 seconds (176 already precompiled)\n"
     ]
    }
   ],
   "source": [
    "Pkg.precompile()"
   ]
  },
  {
   "cell_type": "code",
   "execution_count": 3,
   "metadata": {},
   "outputs": [],
   "source": [
    "using DataFrames\n",
    "using LinearAlgebra\n",
    "using Gadfly\n",
    "using Statistics\n",
    "using MAT55_Exame"
   ]
  },
  {
   "cell_type": "code",
   "execution_count": 4,
   "metadata": {},
   "outputs": [
    {
     "name": "stdout",
     "output_type": "stream",
     "text": [
      "HTTP.ExceptionRequest.StatusError(404, \"GET\", \"/v7/finance/download/BRK.B?period1=1632096000&period2=1638735365&interval=1d&events=history\", HTTP.Messages.Response:\n",
      "\"\"\"\n",
      "HTTP/1.1 404 Not Found\n",
      "content-type: text/csv;charset=utf-8\n",
      "vary: Origin\n",
      "y-rid: 2s02t19gqqi1l\n",
      "x-yahoo-request-id: 2s02t19gqqi1l\n",
      "x-request-id: 7f7650da-3d50-48a1-99c5-8b465da20583\n",
      "content-length: 52\n",
      "x-envoy-upstream-service-time: 2\n",
      "date: Sun, 05 Dec 2021 23:16:04 GMT\n",
      "server: ATS\n",
      "x-envoy-decorator-operation: finance-chart-api--mtls-production-bf1.finance-k8s.svc.yahoo.local:4080/*\n",
      "Cache-Control: max-age=0, private\n",
      "Expires: -1\n",
      "Age: 1\n",
      "Strict-Transport-Security: max-age=15552000\n",
      "Referrer-Policy: no-referrer-when-downgrade\n",
      "X-Frame-Options: SAMEORIGIN\n",
      "Connection: keep-alive\n",
      "Expect-CT: max-age=31536000, report-uri=\"http://csp.yahoo.com/beacon/csp?src=yahoocom-expect-ct-report-only\"\n",
      "X-XSS-Protection: 1; mode=block\n",
      "X-Content-Type-Options: nosniff\n",
      "\n",
      "404 Not Found: No data found, symbol may be delisted\"\"\")HTTP.ExceptionRequest.StatusError(404, \"GET\", \"/v7/finance/download/BF.B?period1=1632096000&period2=1638735374&interval=1d&events=history\", HTTP.Messages.Response:\n",
      "\"\"\"\n",
      "HTTP/1.1 404 Not Found\n",
      "content-type: text/csv;charset=utf-8\n",
      "vary: Origin\n",
      "y-rid: 8efeislgqqi1u\n",
      "x-yahoo-request-id: 8efeislgqqi1u\n",
      "x-request-id: e011e523-e49e-4346-8ac5-424d2926838d\n",
      "content-length: 38\n",
      "x-envoy-upstream-service-time: 5\n",
      "date: Sun, 05 Dec 2021 23:16:13 GMT\n",
      "server: ATS\n",
      "x-envoy-decorator-operation: finance-chart-api--mtls-canary-production-bf1.finance-k8s.svc.yahoo.local:4080/*\n",
      "Cache-Control: max-age=0, private\n",
      "Expires: -1\n",
      "Age: 1\n",
      "Strict-Transport-Security: max-age=15552000\n",
      "Referrer-Policy: no-referrer-when-downgrade\n",
      "X-Frame-Options: SAMEORIGIN\n",
      "Connection: keep-alive\n",
      "Expect-CT: max-age=31536000, report-uri=\"http://csp.yahoo.com/beacon/csp?src=yahoocom-expect-ct-report-only\"\n",
      "X-XSS-Protection: 1; mode=block\n",
      "X-Content-Type-Options: nosniff\n",
      "\n",
      "404 Not Found: Timestamp data missing.\"\"\")"
     ]
    },
    {
     "data": {
      "text/html": [
       "<div class=\"data-frame\"><p>53 rows × 504 columns (omitted printing of 498 columns)</p><table class=\"data-frame\"><thead><tr><th></th><th>date</th><th>MMM</th><th>ABT</th><th>ABBV</th><th>ABMD</th><th>ACN</th></tr><tr><th></th><th title=\"Dates.Date\">Date…</th><th title=\"Float64\">Float64</th><th title=\"Float64\">Float64</th><th title=\"Float64\">Float64</th><th title=\"Float64\">Float64</th><th title=\"Float64\">Float64</th></tr></thead><tbody><tr><th>1</th><td>2021-09-21</td><td>-0.0116878</td><td>0.00208212</td><td>0.00704887</td><td>-0.00688012</td><td>-0.00343078</td></tr><tr><th>2</th><td>2021-09-22</td><td>0.00795874</td><td>-0.00383597</td><td>-0.00690619</td><td>0.0115076</td><td>0.0105995</td></tr><tr><th>3</th><td>2021-09-23</td><td>0.00939726</td><td>0.00521461</td><td>0.0089277</td><td>0.00472832</td><td>0.0249208</td></tr><tr><th>4</th><td>2021-09-24</td><td>-0.00269931</td><td>-0.00742219</td><td>-0.0027012</td><td>-0.000713043</td><td>-0.0109912</td></tr><tr><th>5</th><td>2021-09-27</td><td>0.00414273</td><td>-0.0304736</td><td>0.0060708</td><td>-0.0339365</td><td>-0.0139139</td></tr><tr><th>6</th><td>2021-09-28</td><td>-0.00957143</td><td>-0.0152596</td><td>-0.00352771</td><td>-0.0212722</td><td>-0.0307914</td></tr><tr><th>7</th><td>2021-09-29</td><td>0.00460984</td><td>0.00606368</td><td>0.0139743</td><td>-0.00531282</td><td>-0.00209738</td></tr><tr><th>8</th><td>2021-09-30</td><td>-0.0301858</td><td>-0.0111335</td><td>-0.0089121</td><td>-0.012109</td><td>-0.0111581</td></tr><tr><th>9</th><td>2021-10-01</td><td>0.00718273</td><td>-0.00778801</td><td>0.0113098</td><td>-0.0067277</td><td>0.0154413</td></tr><tr><th>10</th><td>2021-10-04</td><td>-0.00362237</td><td>-0.0143332</td><td>-0.00329996</td><td>-0.029258</td><td>-0.0165302</td></tr><tr><th>11</th><td>2021-10-05</td><td>0.0104522</td><td>0.0030295</td><td>0.00717372</td><td>0.0592602</td><td>0.0176219</td></tr><tr><th>12</th><td>2021-10-06</td><td>0.00292326</td><td>0.00526408</td><td>-0.00173502</td><td>0.0145276</td><td>0.000215327</td></tr><tr><th>13</th><td>2021-10-07</td><td>-0.00336318</td><td>0.0121899</td><td>0.0141786</td><td>0.00889416</td><td>0.00325963</td></tr><tr><th>14</th><td>2021-10-08</td><td>-0.00478069</td><td>0.00407086</td><td>0.00279604</td><td>-0.00931526</td><td>-0.00324904</td></tr><tr><th>15</th><td>2021-10-11</td><td>-0.00378637</td><td>-0.0127545</td><td>-0.00755535</td><td>-0.0147718</td><td>0.00402841</td></tr><tr><th>16</th><td>2021-10-12</td><td>-0.00425459</td><td>0.00376457</td><td>-0.0160413</td><td>0.00599133</td><td>0.00364472</td></tr><tr><th>17</th><td>2021-10-13</td><td>0.00934313</td><td>-0.00272758</td><td>-0.000368435</td><td>0.00571609</td><td>0.00759862</td></tr><tr><th>18</th><td>2021-10-14</td><td>0.0177796</td><td>0.00487179</td><td>0.00350138</td><td>0.0268413</td><td>0.0268339</td></tr><tr><th>19</th><td>2021-10-15</td><td>0.008984</td><td>-0.000680463</td><td>0.00385638</td><td>0.0182571</td><td>0.00819962</td></tr><tr><th>20</th><td>2021-10-18</td><td>-0.0012092</td><td>-0.0057026</td><td>-0.0173786</td><td>-0.000882252</td><td>0.00397866</td></tr><tr><th>21</th><td>2021-10-19</td><td>0.00324674</td><td>0.0215716</td><td>0.00018614</td><td>-0.00470003</td><td>0.0191153</td></tr><tr><th>22</th><td>2021-10-20</td><td>0.000603368</td><td>0.0332663</td><td>0.00893445</td><td>-0.00855726</td><td>-0.0112655</td></tr><tr><th>23</th><td>2021-10-21</td><td>-0.00164457</td><td>0.0141108</td><td>0.00322847</td><td>0.00941048</td><td>0.00381726</td></tr><tr><th>24</th><td>2021-10-22</td><td>-0.00724792</td><td>0.0133546</td><td>0.0034939</td><td>0.00714939</td><td>0.0192153</td></tr><tr><th>25</th><td>2021-10-25</td><td>0.00884951</td><td>-0.00110479</td><td>-0.00586402</td><td>0.00522459</td><td>0.0074903</td></tr><tr><th>26</th><td>2021-10-26</td><td>-0.00131573</td><td>0.0122452</td><td>0.00912441</td><td>-0.0161573</td><td>-0.000280569</td></tr><tr><th>27</th><td>2021-10-27</td><td>-0.0215195</td><td>-0.00327797</td><td>-0.00995521</td><td>-0.0106805</td><td>-0.00642647</td></tr><tr><th>28</th><td>2021-10-28</td><td>0.00914492</td><td>0.0</td><td>0.0117158</td><td>-0.00417892</td><td>0.00641158</td></tr><tr><th>29</th><td>2021-10-29</td><td>-0.0066159</td><td>0.00923968</td><td>0.0455913</td><td>-0.0323483</td><td>0.00693198</td></tr><tr><th>30</th><td>2021-11-01</td><td>0.00503699</td><td>0.000387951</td><td>0.00122089</td><td>0.0540597</td><td>-0.0096714</td></tr><tr><th>&vellip;</th><td>&vellip;</td><td>&vellip;</td><td>&vellip;</td><td>&vellip;</td><td>&vellip;</td><td>&vellip;</td></tr></tbody></table></div>"
      ],
      "text/latex": [
       "\\begin{tabular}{r|ccccccc}\n",
       "\t& date & MMM & ABT & ABBV & ABMD & ACN & \\\\\n",
       "\t\\hline\n",
       "\t& Date… & Float64 & Float64 & Float64 & Float64 & Float64 & \\\\\n",
       "\t\\hline\n",
       "\t1 & 2021-09-21 & -0.0116878 & 0.00208212 & 0.00704887 & -0.00688012 & -0.00343078 & $\\dots$ \\\\\n",
       "\t2 & 2021-09-22 & 0.00795874 & -0.00383597 & -0.00690619 & 0.0115076 & 0.0105995 & $\\dots$ \\\\\n",
       "\t3 & 2021-09-23 & 0.00939726 & 0.00521461 & 0.0089277 & 0.00472832 & 0.0249208 & $\\dots$ \\\\\n",
       "\t4 & 2021-09-24 & -0.00269931 & -0.00742219 & -0.0027012 & -0.000713043 & -0.0109912 & $\\dots$ \\\\\n",
       "\t5 & 2021-09-27 & 0.00414273 & -0.0304736 & 0.0060708 & -0.0339365 & -0.0139139 & $\\dots$ \\\\\n",
       "\t6 & 2021-09-28 & -0.00957143 & -0.0152596 & -0.00352771 & -0.0212722 & -0.0307914 & $\\dots$ \\\\\n",
       "\t7 & 2021-09-29 & 0.00460984 & 0.00606368 & 0.0139743 & -0.00531282 & -0.00209738 & $\\dots$ \\\\\n",
       "\t8 & 2021-09-30 & -0.0301858 & -0.0111335 & -0.0089121 & -0.012109 & -0.0111581 & $\\dots$ \\\\\n",
       "\t9 & 2021-10-01 & 0.00718273 & -0.00778801 & 0.0113098 & -0.0067277 & 0.0154413 & $\\dots$ \\\\\n",
       "\t10 & 2021-10-04 & -0.00362237 & -0.0143332 & -0.00329996 & -0.029258 & -0.0165302 & $\\dots$ \\\\\n",
       "\t11 & 2021-10-05 & 0.0104522 & 0.0030295 & 0.00717372 & 0.0592602 & 0.0176219 & $\\dots$ \\\\\n",
       "\t12 & 2021-10-06 & 0.00292326 & 0.00526408 & -0.00173502 & 0.0145276 & 0.000215327 & $\\dots$ \\\\\n",
       "\t13 & 2021-10-07 & -0.00336318 & 0.0121899 & 0.0141786 & 0.00889416 & 0.00325963 & $\\dots$ \\\\\n",
       "\t14 & 2021-10-08 & -0.00478069 & 0.00407086 & 0.00279604 & -0.00931526 & -0.00324904 & $\\dots$ \\\\\n",
       "\t15 & 2021-10-11 & -0.00378637 & -0.0127545 & -0.00755535 & -0.0147718 & 0.00402841 & $\\dots$ \\\\\n",
       "\t16 & 2021-10-12 & -0.00425459 & 0.00376457 & -0.0160413 & 0.00599133 & 0.00364472 & $\\dots$ \\\\\n",
       "\t17 & 2021-10-13 & 0.00934313 & -0.00272758 & -0.000368435 & 0.00571609 & 0.00759862 & $\\dots$ \\\\\n",
       "\t18 & 2021-10-14 & 0.0177796 & 0.00487179 & 0.00350138 & 0.0268413 & 0.0268339 & $\\dots$ \\\\\n",
       "\t19 & 2021-10-15 & 0.008984 & -0.000680463 & 0.00385638 & 0.0182571 & 0.00819962 & $\\dots$ \\\\\n",
       "\t20 & 2021-10-18 & -0.0012092 & -0.0057026 & -0.0173786 & -0.000882252 & 0.00397866 & $\\dots$ \\\\\n",
       "\t21 & 2021-10-19 & 0.00324674 & 0.0215716 & 0.00018614 & -0.00470003 & 0.0191153 & $\\dots$ \\\\\n",
       "\t22 & 2021-10-20 & 0.000603368 & 0.0332663 & 0.00893445 & -0.00855726 & -0.0112655 & $\\dots$ \\\\\n",
       "\t23 & 2021-10-21 & -0.00164457 & 0.0141108 & 0.00322847 & 0.00941048 & 0.00381726 & $\\dots$ \\\\\n",
       "\t24 & 2021-10-22 & -0.00724792 & 0.0133546 & 0.0034939 & 0.00714939 & 0.0192153 & $\\dots$ \\\\\n",
       "\t25 & 2021-10-25 & 0.00884951 & -0.00110479 & -0.00586402 & 0.00522459 & 0.0074903 & $\\dots$ \\\\\n",
       "\t26 & 2021-10-26 & -0.00131573 & 0.0122452 & 0.00912441 & -0.0161573 & -0.000280569 & $\\dots$ \\\\\n",
       "\t27 & 2021-10-27 & -0.0215195 & -0.00327797 & -0.00995521 & -0.0106805 & -0.00642647 & $\\dots$ \\\\\n",
       "\t28 & 2021-10-28 & 0.00914492 & 0.0 & 0.0117158 & -0.00417892 & 0.00641158 & $\\dots$ \\\\\n",
       "\t29 & 2021-10-29 & -0.0066159 & 0.00923968 & 0.0455913 & -0.0323483 & 0.00693198 & $\\dots$ \\\\\n",
       "\t30 & 2021-11-01 & 0.00503699 & 0.000387951 & 0.00122089 & 0.0540597 & -0.0096714 & $\\dots$ \\\\\n",
       "\t$\\dots$ & $\\dots$ & $\\dots$ & $\\dots$ & $\\dots$ & $\\dots$ & $\\dots$ &  \\\\\n",
       "\\end{tabular}\n"
      ],
      "text/plain": [
       "\u001b[1m53×504 DataFrame\u001b[0m\n",
       "\u001b[1m Row \u001b[0m│\u001b[1m date       \u001b[0m\u001b[1m MMM          \u001b[0m\u001b[1m ABT         \u001b[0m\u001b[1m ABBV        \u001b[0m\u001b[1m ABMD         \u001b[0m\u001b[1m ACN  \u001b[0m ⋯\n",
       "\u001b[1m     \u001b[0m│\u001b[90m Date…      \u001b[0m\u001b[90m Float64      \u001b[0m\u001b[90m Float64     \u001b[0m\u001b[90m Float64     \u001b[0m\u001b[90m Float64      \u001b[0m\u001b[90m Float\u001b[0m ⋯\n",
       "─────┼──────────────────────────────────────────────────────────────────────────\n",
       "   1 │ 2021-09-21  -0.0116878     0.00208212   0.00704887  -0.00688012   -0.00 ⋯\n",
       "   2 │ 2021-09-22   0.00795874   -0.00383597  -0.00690619   0.0115076     0.01\n",
       "   3 │ 2021-09-23   0.00939726    0.00521461   0.0089277    0.00472832    0.02\n",
       "   4 │ 2021-09-24  -0.00269931   -0.00742219  -0.0027012   -0.000713043  -0.01\n",
       "   5 │ 2021-09-27   0.00414273   -0.0304736    0.0060708   -0.0339365    -0.01 ⋯\n",
       "   6 │ 2021-09-28  -0.00957143   -0.0152596   -0.00352771  -0.0212722    -0.03\n",
       "   7 │ 2021-09-29   0.00460984    0.00606368   0.0139743   -0.00531282   -0.00\n",
       "   8 │ 2021-09-30  -0.0301858    -0.0111335   -0.0089121   -0.012109     -0.01\n",
       "   9 │ 2021-10-01   0.00718273   -0.00778801   0.0113098   -0.0067277     0.01 ⋯\n",
       "  10 │ 2021-10-04  -0.00362237   -0.0143332   -0.00329996  -0.029258     -0.01\n",
       "  11 │ 2021-10-05   0.0104522     0.0030295    0.00717372   0.0592602     0.01\n",
       "  ⋮  │     ⋮            ⋮             ⋮            ⋮            ⋮              ⋱\n",
       "  44 │ 2021-11-19   0.00257309   -0.00626765  -0.00708979  -0.000617349  -0.00\n",
       "  45 │ 2021-11-22   0.0023992    -0.0124566   -0.00507567  -0.0137356    -0.01 ⋯\n",
       "  46 │ 2021-11-23  -0.0011132    -0.00622704   0.0279291   -0.0212931    -0.00\n",
       "  47 │ 2021-11-24  -0.0101973     0.00473969  -0.00185055   0.0292523     0.00\n",
       "  48 │ 2021-11-26  -0.0118786     0.00647635  -0.018119    -0.0349339    -0.02\n",
       "  49 │ 2021-11-29   0.00404508    0.0170798    0.0032615   -0.0210443     0.03 ⋯\n",
       "  50 │ 2021-11-30  -0.0351246    -0.0176521   -0.0137736   -0.0135999    -0.02\n",
       "  51 │ 2021-12-01   0.00405789    0.0077125    0.005465    -0.0288138     0.00\n",
       "  52 │ 2021-12-02  -0.00275289    0.0129399    0.00828228   0.0220144     0.01\n",
       "  53 │ 2021-12-03   0.013685      0.0147219    0.0169419   -0.0377992    -0.01 ⋯\n",
       "\u001b[36m                                                 499 columns and 32 rows omitted\u001b[0m"
      ]
     },
     "execution_count": 4,
     "metadata": {},
     "output_type": "execute_result"
    }
   ],
   "source": [
    "df = create_returns()"
   ]
  },
  {
   "cell_type": "code",
   "execution_count": 5,
   "metadata": {},
   "outputs": [
    {
     "data": {
      "text/plain": [
       "CartesianIndex{2}[]"
      ]
     },
     "execution_count": 5,
     "metadata": {},
     "output_type": "execute_result"
    }
   ],
   "source": [
    "# checar se há alguma correlação perfeita entre duas ações\n",
    "correl = cor(Matrix(select(df, Not(:date))))\n",
    "nodiag = correl - diagm(diag(correl))\n",
    "findall(x -> x == 1.0, nodiag)"
   ]
  },
  {
   "cell_type": "code",
   "execution_count": 10,
   "metadata": {},
   "outputs": [],
   "source": [
    "μ, Σ, tickers, dates = get_statistics(df);"
   ]
  },
  {
   "cell_type": "code",
   "execution_count": 11,
   "metadata": {},
   "outputs": [
    {
     "data": {
      "text/plain": [
       "503-element Vector{Float64}:\n",
       " -0.0007912048386208962\n",
       "  0.0008775901386909208\n",
       "  0.0021483278157683346\n",
       " -0.002495773326190809\n",
       "  0.0016704969450775805\n",
       " -0.004998630311238285\n",
       " -0.0005207862274841264\n",
       "  0.007042580060203213\n",
       "  0.002162415575013979\n",
       " -2.169712351298996e-5\n",
       "  0.0008723067494140589\n",
       " -0.0024793819527281383\n",
       "  0.0021638703581336113\n",
       "  ⋮\n",
       "  0.0013431665350315007\n",
       "  0.001654902863707309\n",
       "  0.00042263705386406974\n",
       " -4.423527465701036e-5\n",
       "  0.0005838079692177261\n",
       "  0.0072651984992723245\n",
       " -0.0018460789403183823\n",
       " -6.93430205109394e-5\n",
       "  0.0013823100157326624\n",
       " -0.0030802997713579076\n",
       "  0.00218586839272067\n",
       "  0.0022888492858123438"
      ]
     },
     "execution_count": 11,
     "metadata": {},
     "output_type": "execute_result"
    }
   ],
   "source": [
    "μ"
   ]
  },
  {
   "cell_type": "code",
   "execution_count": 12,
   "metadata": {},
   "outputs": [
    {
     "data": {
      "text/plain": [
       "503×503 Matrix{Float64}:\n",
       "  0.000115383   2.42916e-5    3.94242e-5   …  7.15073e-5    1.75785e-5\n",
       "  2.42916e-5    0.000159504   2.90368e-5      1.29332e-5    6.4625e-5\n",
       "  3.94242e-5    2.90368e-5    0.000120011     6.56096e-5    2.89609e-5\n",
       "  4.88085e-5    3.44572e-5   -3.18874e-5      7.19786e-5    0.000101256\n",
       "  6.75511e-5    5.06847e-5    3.44888e-5      7.22178e-5    0.00010186\n",
       "  6.12645e-5    1.6472e-5    -1.67266e-6   …  1.85511e-5    3.51573e-5\n",
       "  1.5862e-5     8.7252e-5    -5.15475e-6      5.04126e-5    0.000160229\n",
       " -2.77908e-6    6.4776e-5    -6.60539e-5      9.94711e-5    0.000146311\n",
       "  6.18312e-5    4.29251e-5    4.57771e-5      0.000166196   3.43825e-5\n",
       "  2.09922e-5    3.3586e-5     2.31242e-5      7.38541e-5    1.7389e-5\n",
       "  7.44797e-5    1.10165e-5    2.11345e-5   …  0.000179498   5.73954e-6\n",
       "  4.85739e-5    9.47536e-5    2.57372e-6      2.28556e-5    0.000112358\n",
       "  6.26986e-5   -1.30599e-5    1.19714e-5      3.59951e-5    1.58455e-5\n",
       "  ⋮                                        ⋱               \n",
       "  8.54112e-5    3.8768e-5     5.25615e-5      0.000155627   3.39267e-5\n",
       "  4.4532e-5    -2.85688e-5    2.60897e-5      0.00015311   -1.68195e-5\n",
       "  4.81361e-5    1.20336e-5    1.91222e-5      7.18956e-5    6.33457e-5\n",
       "  6.23881e-5   -6.11806e-5   -1.05525e-5      0.000253617  -5.43609e-6\n",
       "  5.8835e-5     1.75684e-5    3.1599e-5    …  2.53947e-5    2.27701e-5\n",
       "  7.05356e-6    3.27686e-5   -3.25206e-5      4.29154e-5    0.000103686\n",
       "  6.18807e-5    5.47697e-5    7.64947e-6      5.53422e-5    0.000125441\n",
       "  3.6017e-5     1.98363e-5    1.05681e-5      6.81653e-5    5.0391e-5\n",
       "  8.82924e-5    1.37498e-5    2.52063e-5      5.47017e-5    0.000105212\n",
       "  9.99242e-5    4.50698e-6    5.14672e-5   …  0.00022581   -9.4951e-6\n",
       "  7.15073e-5    1.29332e-5    6.56096e-5      0.000365311   9.2519e-6\n",
       "  1.75785e-5    6.4625e-5     2.89609e-5      9.2519e-6     0.000150697"
      ]
     },
     "execution_count": 12,
     "metadata": {},
     "output_type": "execute_result"
    }
   ],
   "source": [
    "Σ"
   ]
  },
  {
   "cell_type": "code",
   "execution_count": 13,
   "metadata": {},
   "outputs": [
    {
     "data": {
      "text/plain": [
       "503-element Vector{String}:\n",
       " \"MMM\"\n",
       " \"ABT\"\n",
       " \"ABBV\"\n",
       " \"ABMD\"\n",
       " \"ACN\"\n",
       " \"ATVI\"\n",
       " \"ADBE\"\n",
       " \"AMD\"\n",
       " \"AAP\"\n",
       " \"AES\"\n",
       " \"AFL\"\n",
       " \"A\"\n",
       " \"APD\"\n",
       " ⋮\n",
       " \"WHR\"\n",
       " \"WMB\"\n",
       " \"WLTW\"\n",
       " \"WYNN\"\n",
       " \"XEL\"\n",
       " \"XLNX\"\n",
       " \"XYL\"\n",
       " \"YUM\"\n",
       " \"ZBRA\"\n",
       " \"ZBH\"\n",
       " \"ZION\"\n",
       " \"ZTS\""
      ]
     },
     "execution_count": 13,
     "metadata": {},
     "output_type": "execute_result"
    }
   ],
   "source": [
    "tickers"
   ]
  },
  {
   "cell_type": "code",
   "execution_count": 14,
   "metadata": {},
   "outputs": [
    {
     "data": {
      "text/html": [
       "<div class=\"data-frame\"><p>53 rows × 1 columns</p><table class=\"data-frame\"><thead><tr><th></th><th>date</th></tr><tr><th></th><th title=\"Dates.Date\">Date…</th></tr></thead><tbody><tr><th>1</th><td>2021-09-21</td></tr><tr><th>2</th><td>2021-09-22</td></tr><tr><th>3</th><td>2021-09-23</td></tr><tr><th>4</th><td>2021-09-24</td></tr><tr><th>5</th><td>2021-09-27</td></tr><tr><th>6</th><td>2021-09-28</td></tr><tr><th>7</th><td>2021-09-29</td></tr><tr><th>8</th><td>2021-09-30</td></tr><tr><th>9</th><td>2021-10-01</td></tr><tr><th>10</th><td>2021-10-04</td></tr><tr><th>11</th><td>2021-10-05</td></tr><tr><th>12</th><td>2021-10-06</td></tr><tr><th>13</th><td>2021-10-07</td></tr><tr><th>14</th><td>2021-10-08</td></tr><tr><th>15</th><td>2021-10-11</td></tr><tr><th>16</th><td>2021-10-12</td></tr><tr><th>17</th><td>2021-10-13</td></tr><tr><th>18</th><td>2021-10-14</td></tr><tr><th>19</th><td>2021-10-15</td></tr><tr><th>20</th><td>2021-10-18</td></tr><tr><th>21</th><td>2021-10-19</td></tr><tr><th>22</th><td>2021-10-20</td></tr><tr><th>23</th><td>2021-10-21</td></tr><tr><th>24</th><td>2021-10-22</td></tr><tr><th>25</th><td>2021-10-25</td></tr><tr><th>26</th><td>2021-10-26</td></tr><tr><th>27</th><td>2021-10-27</td></tr><tr><th>28</th><td>2021-10-28</td></tr><tr><th>29</th><td>2021-10-29</td></tr><tr><th>30</th><td>2021-11-01</td></tr><tr><th>&vellip;</th><td>&vellip;</td></tr></tbody></table></div>"
      ],
      "text/latex": [
       "\\begin{tabular}{r|c}\n",
       "\t& date\\\\\n",
       "\t\\hline\n",
       "\t& Date…\\\\\n",
       "\t\\hline\n",
       "\t1 & 2021-09-21 \\\\\n",
       "\t2 & 2021-09-22 \\\\\n",
       "\t3 & 2021-09-23 \\\\\n",
       "\t4 & 2021-09-24 \\\\\n",
       "\t5 & 2021-09-27 \\\\\n",
       "\t6 & 2021-09-28 \\\\\n",
       "\t7 & 2021-09-29 \\\\\n",
       "\t8 & 2021-09-30 \\\\\n",
       "\t9 & 2021-10-01 \\\\\n",
       "\t10 & 2021-10-04 \\\\\n",
       "\t11 & 2021-10-05 \\\\\n",
       "\t12 & 2021-10-06 \\\\\n",
       "\t13 & 2021-10-07 \\\\\n",
       "\t14 & 2021-10-08 \\\\\n",
       "\t15 & 2021-10-11 \\\\\n",
       "\t16 & 2021-10-12 \\\\\n",
       "\t17 & 2021-10-13 \\\\\n",
       "\t18 & 2021-10-14 \\\\\n",
       "\t19 & 2021-10-15 \\\\\n",
       "\t20 & 2021-10-18 \\\\\n",
       "\t21 & 2021-10-19 \\\\\n",
       "\t22 & 2021-10-20 \\\\\n",
       "\t23 & 2021-10-21 \\\\\n",
       "\t24 & 2021-10-22 \\\\\n",
       "\t25 & 2021-10-25 \\\\\n",
       "\t26 & 2021-10-26 \\\\\n",
       "\t27 & 2021-10-27 \\\\\n",
       "\t28 & 2021-10-28 \\\\\n",
       "\t29 & 2021-10-29 \\\\\n",
       "\t30 & 2021-11-01 \\\\\n",
       "\t$\\dots$ & $\\dots$ \\\\\n",
       "\\end{tabular}\n"
      ],
      "text/plain": [
       "\u001b[1m53×1 DataFrame\u001b[0m\n",
       "\u001b[1m Row \u001b[0m│\u001b[1m date       \u001b[0m\n",
       "\u001b[1m     \u001b[0m│\u001b[90m Date…      \u001b[0m\n",
       "─────┼────────────\n",
       "   1 │ 2021-09-21\n",
       "   2 │ 2021-09-22\n",
       "   3 │ 2021-09-23\n",
       "   4 │ 2021-09-24\n",
       "   5 │ 2021-09-27\n",
       "   6 │ 2021-09-28\n",
       "   7 │ 2021-09-29\n",
       "   8 │ 2021-09-30\n",
       "   9 │ 2021-10-01\n",
       "  10 │ 2021-10-04\n",
       "  11 │ 2021-10-05\n",
       "  ⋮  │     ⋮\n",
       "  44 │ 2021-11-19\n",
       "  45 │ 2021-11-22\n",
       "  46 │ 2021-11-23\n",
       "  47 │ 2021-11-24\n",
       "  48 │ 2021-11-26\n",
       "  49 │ 2021-11-29\n",
       "  50 │ 2021-11-30\n",
       "  51 │ 2021-12-01\n",
       "  52 │ 2021-12-02\n",
       "  53 │ 2021-12-03\n",
       "\u001b[36m   32 rows omitted\u001b[0m"
      ]
     },
     "execution_count": 14,
     "metadata": {},
     "output_type": "execute_result"
    }
   ],
   "source": [
    "dates"
   ]
  },
  {
   "cell_type": "code",
   "execution_count": 16,
   "metadata": {},
   "outputs": [
    {
     "data": {
      "text/plain": [
       "503"
      ]
     },
     "execution_count": 16,
     "metadata": {},
     "output_type": "execute_result"
    }
   ],
   "source": [
    "n = size(Σ, 1)"
   ]
  },
  {
   "cell_type": "code",
   "execution_count": 18,
   "metadata": {},
   "outputs": [
    {
     "data": {
      "text/plain": [
       "504×504 Matrix{Float64}:\n",
       "  0.000230766   4.85833e-5    7.88485e-5   …  0.000143015   3.5157e-5    1.0\n",
       "  4.85833e-5    0.000319008   5.80737e-5      2.58663e-5    0.00012925   1.0\n",
       "  7.88485e-5    5.80737e-5    0.000240022     0.000131219   5.79217e-5   1.0\n",
       "  9.7617e-5     6.89145e-5   -6.37749e-5      0.000143957   0.000202512  1.0\n",
       "  0.000135102   0.000101369   6.89776e-5      0.000144436   0.000203719  1.0\n",
       "  0.000122529   3.29441e-5   -3.34533e-6   …  3.71021e-5    7.03145e-5   1.0\n",
       "  3.1724e-5     0.000174504  -1.03095e-5      0.000100825   0.000320458  1.0\n",
       " -5.55817e-6    0.000129552  -0.000132108     0.000198942   0.000292622  1.0\n",
       "  0.000123662   8.58502e-5    9.15542e-5      0.000332392   6.8765e-5    1.0\n",
       "  4.19845e-5    6.7172e-5     4.62485e-5      0.000147708   3.4778e-5    1.0\n",
       "  0.000148959   2.2033e-5     4.2269e-5    …  0.000358995   1.14791e-5   1.0\n",
       "  9.71478e-5    0.000189507   5.14745e-6      4.57113e-5    0.000224717  1.0\n",
       "  0.000125397  -2.61198e-5    2.39429e-5      7.19902e-5    3.16911e-5   1.0\n",
       "  ⋮                                        ⋱                             \n",
       "  8.9064e-5    -5.71376e-5    5.21795e-5      0.00030622   -3.3639e-5    1.0\n",
       "  9.62723e-5    2.40671e-5    3.82443e-5      0.000143791   0.000126691  1.0\n",
       "  0.000124776  -0.000122361  -2.11049e-5      0.000507233  -1.08722e-5   1.0\n",
       "  0.00011767    3.51369e-5    6.3198e-5    …  5.07895e-5    4.55402e-5   1.0\n",
       "  1.41071e-5    6.55373e-5   -6.50413e-5      8.58308e-5    0.000207371  1.0\n",
       "  0.000123761   0.000109539   1.52989e-5      0.000110684   0.000250882  1.0\n",
       "  7.2034e-5     3.96726e-5    2.11362e-5      0.000136331   0.000100782  1.0\n",
       "  0.000176585   2.74996e-5    5.04126e-5      0.000109403   0.000210425  1.0\n",
       "  0.000199848   9.01396e-6    0.000102934  …  0.000451619  -1.89902e-5   1.0\n",
       "  0.000143015   2.58663e-5    0.000131219     0.000730621   1.85038e-5   1.0\n",
       "  3.5157e-5     0.00012925    5.79217e-5      1.85038e-5    0.000301394  1.0\n",
       "  1.0           1.0           1.0             1.0           1.0          0.0"
      ]
     },
     "execution_count": 18,
     "metadata": {},
     "output_type": "execute_result"
    }
   ],
   "source": [
    "A = [2 .* Σ ones(n); ones(n)' 0]"
   ]
  },
  {
   "cell_type": "code",
   "execution_count": 19,
   "metadata": {},
   "outputs": [
    {
     "data": {
      "text/plain": [
       "504-element Vector{Float64}:\n",
       " 0.0\n",
       " 0.0\n",
       " 0.0\n",
       " 0.0\n",
       " 0.0\n",
       " 0.0\n",
       " 0.0\n",
       " 0.0\n",
       " 0.0\n",
       " 0.0\n",
       " 0.0\n",
       " 0.0\n",
       " 0.0\n",
       " ⋮\n",
       " 0.0\n",
       " 0.0\n",
       " 0.0\n",
       " 0.0\n",
       " 0.0\n",
       " 0.0\n",
       " 0.0\n",
       " 0.0\n",
       " 0.0\n",
       " 0.0\n",
       " 0.0\n",
       " 1.0"
      ]
     },
     "execution_count": 19,
     "metadata": {},
     "output_type": "execute_result"
    }
   ],
   "source": [
    "b = [zeros(n); 1]"
   ]
  },
  {
   "cell_type": "code",
   "execution_count": 20,
   "metadata": {},
   "outputs": [
    {
     "data": {
      "text/plain": [
       "504-element Vector{Float64}:\n",
       " -0.453125\n",
       " -0.265625\n",
       " -2.53125\n",
       "  0.125\n",
       "  0.1875\n",
       "  0.18359375\n",
       " -0.265625\n",
       "  0.171875\n",
       "  0.28125\n",
       " -0.83984375\n",
       "  1.2421875\n",
       " -1.5\n",
       " -0.125\n",
       "  ⋮\n",
       "  0.30859375\n",
       " -2.1484375\n",
       " -0.041015625\n",
       "  0.203125\n",
       " -0.3544921875\n",
       " -1.1640625\n",
       " -0.53125\n",
       "  0.34375\n",
       "  0.154296875\n",
       "  0.10546875\n",
       " -0.578125\n",
       " -4.573977915173222e-19"
      ]
     },
     "execution_count": 20,
     "metadata": {},
     "output_type": "execute_result"
    }
   ],
   "source": [
    "z = inv(A) * b"
   ]
  },
  {
   "cell_type": "code",
   "execution_count": 22,
   "metadata": {},
   "outputs": [
    {
     "data": {
      "text/plain": [
       "-13.182533264160156"
      ]
     },
     "execution_count": 22,
     "metadata": {},
     "output_type": "execute_result"
    }
   ],
   "source": [
    "dot(z[1:503], ones(n))"
   ]
  },
  {
   "cell_type": "code",
   "execution_count": 24,
   "metadata": {},
   "outputs": [
    {
     "data": {
      "text/plain": [
       "503×503 Matrix{Float64}:\n",
       "  0.000115383   2.42916e-5    3.94242e-5   …  7.15073e-5    1.75785e-5\n",
       "  2.42916e-5    0.000159504   2.90368e-5      1.29332e-5    6.4625e-5\n",
       "  3.94242e-5    2.90368e-5    0.000120011     6.56096e-5    2.89609e-5\n",
       "  4.88085e-5    3.44572e-5   -3.18874e-5      7.19786e-5    0.000101256\n",
       "  6.75511e-5    5.06847e-5    3.44888e-5      7.22178e-5    0.00010186\n",
       "  6.12645e-5    1.6472e-5    -1.67266e-6   …  1.85511e-5    3.51573e-5\n",
       "  1.5862e-5     8.7252e-5    -5.15475e-6      5.04126e-5    0.000160229\n",
       " -2.77908e-6    6.4776e-5    -6.60539e-5      9.94711e-5    0.000146311\n",
       "  6.18312e-5    4.29251e-5    4.57771e-5      0.000166196   3.43825e-5\n",
       "  2.09922e-5    3.3586e-5     2.31242e-5      7.38541e-5    1.7389e-5\n",
       "  7.44797e-5    1.10165e-5    2.11345e-5   …  0.000179498   5.73954e-6\n",
       "  4.85739e-5    9.47536e-5    2.57372e-6      2.28556e-5    0.000112358\n",
       "  6.26986e-5   -1.30599e-5    1.19714e-5      3.59951e-5    1.58455e-5\n",
       "  ⋮                                        ⋱               \n",
       "  8.54112e-5    3.8768e-5     5.25615e-5      0.000155627   3.39267e-5\n",
       "  4.4532e-5    -2.85688e-5    2.60897e-5      0.00015311   -1.68195e-5\n",
       "  4.81361e-5    1.20336e-5    1.91222e-5      7.18956e-5    6.33457e-5\n",
       "  6.23881e-5   -6.11806e-5   -1.05525e-5      0.000253617  -5.43609e-6\n",
       "  5.8835e-5     1.75684e-5    3.1599e-5    …  2.53947e-5    2.27701e-5\n",
       "  7.05356e-6    3.27686e-5   -3.25206e-5      4.29154e-5    0.000103686\n",
       "  6.18807e-5    5.47697e-5    7.64947e-6      5.53422e-5    0.000125441\n",
       "  3.6017e-5     1.98363e-5    1.05681e-5      6.81653e-5    5.0391e-5\n",
       "  8.82924e-5    1.37498e-5    2.52063e-5      5.47017e-5    0.000105212\n",
       "  9.99242e-5    4.50698e-6    5.14672e-5   …  0.00022581   -9.4951e-6\n",
       "  7.15073e-5    1.29332e-5    6.56096e-5      0.000365311   9.2519e-6\n",
       "  1.75785e-5    6.4625e-5     2.89609e-5      9.2519e-6     0.000150697"
      ]
     },
     "execution_count": 24,
     "metadata": {},
     "output_type": "execute_result"
    }
   ],
   "source": [
    "dists = Matrix(select(df, Not(:date)))\n",
    "Σ2 = cov(dists, dims=1)"
   ]
  },
  {
   "cell_type": "code",
   "execution_count": 28,
   "metadata": {},
   "outputs": [
    {
     "data": {
      "text/plain": [
       "1.0000000000000004"
      ]
     },
     "execution_count": 28,
     "metadata": {},
     "output_type": "execute_result"
    }
   ],
   "source": [
    "A = [2 .* Σ2 ones(n); ones(n)' 0]\n",
    "z = A \\ b\n",
    "dot(z[1:503], ones(n))"
   ]
  },
  {
   "cell_type": "code",
   "execution_count": null,
   "metadata": {},
   "outputs": [],
   "source": [
    "function vetor_port(σ::Array{Float64,2})\n",
    "    n = size[σ,1] \n",
    "    vec1 = ones(n)\n",
    "    vec2 = [ones(n); 0.0]\n",
    "    b = [zero(n); 1.0]\n",
    "\n",
    "    top_A = hcat(2*σ,vec1)\n",
    "    A = vcat(top_A,vec2)\n",
    "\n",
    "    U, S, V = svd(A)\n",
    "\n",
    "    S_1 = Diagonal(S)\n",
    "\n",
    "    x = V*inv(S_1)*U'*b #Vetor dos portfólios e o λ (n lembro o nome kk)\n",
    "\n",
    "    m = x[1:n-1] # Vetor do peso dos portfólios para a menor variância global\n",
    "\n",
    "end"
   ]
  },
  {
   "cell_type": "code",
   "execution_count": null,
   "metadata": {},
   "outputs": [],
   "source": [
    "function gmin(μ::Array{Float64,1},m::Array{Float64,1})\n",
    "\n",
    "    # Valor esperado para o vetor m\n",
    "    μ_gmin = dot(m,μ)\n",
    "\n",
    "    # Desvio padrão do vetor M\n",
    "    σ_gmin2 = m'*σ*m\n",
    "    σ_gmin = sqrt(σ_gmin2)\n",
    "\n",
    "end"
   ]
  },
  {
   "cell_type": "code",
   "execution_count": null,
   "metadata": {},
   "outputs": [],
   "source": [
    "function grafico1(μ::Array{Float64,1}, σ::Array{Float64,2})\n",
    "\n",
    "    σ_vec = sqrt.(diag(σ))\n",
    "\n",
    "    xvec = ones(3)/3      # Vetor de pesos X\n",
    "    μ_x = dot(xvec, μ)\n",
    "    σ_x2= xvec'*σ*xvec\n",
    "\n",
    "    σ_x = sqrt(σ_x2)       # Desvio padrão dos pesos X\n",
    "    \n",
    "    σ_n = [σ_vec;σ_x]\n",
    "    μ_n = [μ;μ_x]\n",
    "    \n",
    "    nome = [\"Ação 1\"; \"Ação 2\"; \"Ação 3\"; \"Portfólio\"]\n",
    "    \n",
    "    Gadfly.plot(x=σ_n, y=μ_n, label=nome, Coord.cartesian(xmin=0, xmax=0.2, ymin=0, ymax=0.05), \n",
    "        Guide.xlabel(\"σ\"), Guide.ylabel(\"μ\"), Guide.title(\"Ações e Portfólio\"), Geom.point, Geom.label)\n",
    "\n",
    "end"
   ]
  },
  {
   "cell_type": "code",
   "execution_count": null,
   "metadata": {},
   "outputs": [],
   "source": [
    "a = [0.0427; 0.0015; 0.0285]\n",
    "b = [0.0100 0.0018 0.0011; 0.0018 0.0109 0.0026; 0.0011 0.0026 0.0199]\n",
    "\n",
    "grafico1(a, b)"
   ]
  }
 ],
 "metadata": {
  "kernelspec": {
   "display_name": "Julia 1.6.2",
   "language": "julia",
   "name": "julia-1.6"
  },
  "language_info": {
   "file_extension": ".jl",
   "mimetype": "application/julia",
   "name": "julia",
   "version": "1.6.2"
  }
 },
 "nbformat": 4,
 "nbformat_minor": 2
}
